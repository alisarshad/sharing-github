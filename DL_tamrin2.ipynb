{
  "nbformat": 4,
  "nbformat_minor": 0,
  "metadata": {
    "colab": {
      "name": "Copy of tamrin2.ipynb",
      "provenance": [],
      "collapsed_sections": [],
      "authorship_tag": "ABX9TyOXxQ5OWcI3k3GTWQ0EDrPj",
      "include_colab_link": true
    },
    "kernelspec": {
      "name": "python3",
      "display_name": "Python 3"
    },
    "language_info": {
      "name": "python"
    },
    "accelerator": "GPU"
  },
  "cells": [
    {
      "cell_type": "markdown",
      "metadata": {
        "id": "view-in-github",
        "colab_type": "text"
      },
      "source": [
        "<a href=\"https://colab.research.google.com/github/alisarshad/sharing-github/blob/main/DL_tamrin2.ipynb\" target=\"_parent\"><img src=\"https://colab.research.google.com/assets/colab-badge.svg\" alt=\"Open In Colab\"/></a>"
      ]
    },
    {
      "cell_type": "code",
      "metadata": {
        "id": "puyrEMBTsMX8"
      },
      "source": [
        "import tensorflow as tf\n",
        "import numpy as np\n",
        "import matplotlib.pyplot as plt\n",
        "%matplotlib inline\n",
        "import pandas as pd\n",
        "import keras\n",
        "from keras import layers\n",
        "from keras.models import Sequential\n",
        "from keras.layers import Dense, Dropout, Activation"
      ],
      "execution_count": null,
      "outputs": []
    },
    {
      "cell_type": "code",
      "metadata": {
        "id": "TVKAmSrEs6YH"
      },
      "source": [
        "fashion_mn =tf.keras.datasets.fashion_mnist\n",
        "(train_images, train_labels), (test_images, test_labels) = fashion_mn.load_data()"
      ],
      "execution_count": null,
      "outputs": []
    },
    {
      "cell_type": "code",
      "metadata": {
        "colab": {
          "base_uri": "https://localhost:8080/"
        },
        "id": "en03DQgNtTAT",
        "outputId": "5ac9db31-d591-4fd6-88cb-aa4e051ca451"
      },
      "source": [
        "fashion_mn"
      ],
      "execution_count": null,
      "outputs": [
        {
          "output_type": "execute_result",
          "data": {
            "text/plain": [
              "<module 'keras.api._v2.keras.datasets.fashion_mnist' from '/usr/local/lib/python3.7/dist-packages/keras/api/_v2/keras/datasets/fashion_mnist/__init__.py'>"
            ]
          },
          "metadata": {},
          "execution_count": 3
        }
      ]
    },
    {
      "cell_type": "code",
      "metadata": {
        "id": "lamgWSF4tkFF"
      },
      "source": [
        "class_names = ['T-shirt/top', 'Trouser', 'Pullover', 'Dress', 'Coat',\n",
        "               'Sandal', 'Shirt', 'Sneaker', 'Bag', 'Ankle boot']"
      ],
      "execution_count": null,
      "outputs": []
    },
    {
      "cell_type": "code",
      "metadata": {
        "colab": {
          "base_uri": "https://localhost:8080/"
        },
        "id": "-XrgJ6XHt4r5",
        "outputId": "0fd09fec-3e69-429a-83e2-8e9adb030b19"
      },
      "source": [
        "train_images.shape"
      ],
      "execution_count": null,
      "outputs": [
        {
          "output_type": "execute_result",
          "data": {
            "text/plain": [
              "(60000, 28, 28)"
            ]
          },
          "metadata": {},
          "execution_count": 5
        }
      ]
    },
    {
      "cell_type": "code",
      "metadata": {
        "colab": {
          "base_uri": "https://localhost:8080/"
        },
        "id": "xz8oy8_CuO_m",
        "outputId": "b24963d2-42be-4ea8-e736-52acfd79a54e"
      },
      "source": [
        "train_labels.shape"
      ],
      "execution_count": null,
      "outputs": [
        {
          "output_type": "execute_result",
          "data": {
            "text/plain": [
              "(60000,)"
            ]
          },
          "metadata": {},
          "execution_count": 6
        }
      ]
    },
    {
      "cell_type": "code",
      "metadata": {
        "colab": {
          "base_uri": "https://localhost:8080/",
          "height": 423
        },
        "id": "oIHNoZ_13uRI",
        "outputId": "7da929e1-f751-4944-87b2-92d8ec299d62"
      },
      "source": [
        "df=pd.DataFrame(train_labels)\n",
        "df"
      ],
      "execution_count": null,
      "outputs": [
        {
          "output_type": "execute_result",
          "data": {
            "text/html": [
              "<div>\n",
              "<style scoped>\n",
              "    .dataframe tbody tr th:only-of-type {\n",
              "        vertical-align: middle;\n",
              "    }\n",
              "\n",
              "    .dataframe tbody tr th {\n",
              "        vertical-align: top;\n",
              "    }\n",
              "\n",
              "    .dataframe thead th {\n",
              "        text-align: right;\n",
              "    }\n",
              "</style>\n",
              "<table border=\"1\" class=\"dataframe\">\n",
              "  <thead>\n",
              "    <tr style=\"text-align: right;\">\n",
              "      <th></th>\n",
              "      <th>0</th>\n",
              "    </tr>\n",
              "  </thead>\n",
              "  <tbody>\n",
              "    <tr>\n",
              "      <th>0</th>\n",
              "      <td>9</td>\n",
              "    </tr>\n",
              "    <tr>\n",
              "      <th>1</th>\n",
              "      <td>0</td>\n",
              "    </tr>\n",
              "    <tr>\n",
              "      <th>2</th>\n",
              "      <td>0</td>\n",
              "    </tr>\n",
              "    <tr>\n",
              "      <th>3</th>\n",
              "      <td>3</td>\n",
              "    </tr>\n",
              "    <tr>\n",
              "      <th>4</th>\n",
              "      <td>0</td>\n",
              "    </tr>\n",
              "    <tr>\n",
              "      <th>...</th>\n",
              "      <td>...</td>\n",
              "    </tr>\n",
              "    <tr>\n",
              "      <th>59995</th>\n",
              "      <td>5</td>\n",
              "    </tr>\n",
              "    <tr>\n",
              "      <th>59996</th>\n",
              "      <td>1</td>\n",
              "    </tr>\n",
              "    <tr>\n",
              "      <th>59997</th>\n",
              "      <td>3</td>\n",
              "    </tr>\n",
              "    <tr>\n",
              "      <th>59998</th>\n",
              "      <td>0</td>\n",
              "    </tr>\n",
              "    <tr>\n",
              "      <th>59999</th>\n",
              "      <td>5</td>\n",
              "    </tr>\n",
              "  </tbody>\n",
              "</table>\n",
              "<p>60000 rows × 1 columns</p>\n",
              "</div>"
            ],
            "text/plain": [
              "       0\n",
              "0      9\n",
              "1      0\n",
              "2      0\n",
              "3      3\n",
              "4      0\n",
              "...   ..\n",
              "59995  5\n",
              "59996  1\n",
              "59997  3\n",
              "59998  0\n",
              "59999  5\n",
              "\n",
              "[60000 rows x 1 columns]"
            ]
          },
          "metadata": {},
          "execution_count": 7
        }
      ]
    },
    {
      "cell_type": "code",
      "metadata": {
        "colab": {
          "base_uri": "https://localhost:8080/"
        },
        "id": "5Ow7YTnC5mLw",
        "outputId": "770ad598-661c-4ef8-9ed7-879441ce3062"
      },
      "source": [
        "df[0].unique()"
      ],
      "execution_count": null,
      "outputs": [
        {
          "output_type": "execute_result",
          "data": {
            "text/plain": [
              "array([9, 0, 3, 2, 7, 5, 1, 6, 4, 8], dtype=uint8)"
            ]
          },
          "metadata": {},
          "execution_count": 8
        }
      ]
    },
    {
      "cell_type": "code",
      "metadata": {
        "colab": {
          "base_uri": "https://localhost:8080/"
        },
        "id": "mnWzVnNNuSZE",
        "outputId": "ca6b7c66-d848-4d87-80f5-cad1a6cfa77c"
      },
      "source": [
        "len(train_labels)"
      ],
      "execution_count": null,
      "outputs": [
        {
          "output_type": "execute_result",
          "data": {
            "text/plain": [
              "60000"
            ]
          },
          "metadata": {},
          "execution_count": 9
        }
      ]
    },
    {
      "cell_type": "code",
      "metadata": {
        "colab": {
          "base_uri": "https://localhost:8080/"
        },
        "id": "B3JJba-fuiuf",
        "outputId": "8c26f7f4-e6de-4c3b-8be6-35930ad5fab1"
      },
      "source": [
        "test_images.shape"
      ],
      "execution_count": null,
      "outputs": [
        {
          "output_type": "execute_result",
          "data": {
            "text/plain": [
              "(10000, 28, 28)"
            ]
          },
          "metadata": {},
          "execution_count": 10
        }
      ]
    },
    {
      "cell_type": "code",
      "metadata": {
        "colab": {
          "base_uri": "https://localhost:8080/"
        },
        "id": "wUnYCkySuqaF",
        "outputId": "944f762d-606c-417e-b63e-5bca72297ec3"
      },
      "source": [
        "len(test_labels)"
      ],
      "execution_count": null,
      "outputs": [
        {
          "output_type": "execute_result",
          "data": {
            "text/plain": [
              "10000"
            ]
          },
          "metadata": {},
          "execution_count": 11
        }
      ]
    },
    {
      "cell_type": "code",
      "metadata": {
        "colab": {
          "base_uri": "https://localhost:8080/",
          "height": 265
        },
        "id": "2b8-yia-uxB-",
        "outputId": "ac5ca539-98c0-4a0b-df42-696de35e52b9"
      },
      "source": [
        "plt.figure()\n",
        "plt.imshow(train_images[122])\n",
        "plt.colorbar()\n",
        "plt.grid(False)\n",
        "plt.show()"
      ],
      "execution_count": null,
      "outputs": [
        {
          "output_type": "display_data",
          "data": {
            "image/png": "[encoded data removed]",
            "text/plain": [
              "<Figure size 432x288 with 2 Axes>"
            ]
          },
          "metadata": {
            "needs_background": "light"
          }
        }
      ]
    },
    {
      "cell_type": "code",
      "metadata": {
        "id": "VL3W2Saxu2xc"
      },
      "source": [
        "train_images = train_images / 255.0\n",
        "\n",
        "test_images = test_images / 255.0"
      ],
      "execution_count": null,
      "outputs": []
    },
    {
      "cell_type": "code",
      "metadata": {
        "id": "JOkhuMLJvf2Q"
      },
      "source": [
        "model =Sequential()\n",
        "model.add(layers.Conv2D(32, (3, 3), activation='relu',\n",
        "                        input_shape=(28, 28, 1)))\n",
        "model.add(layers.MaxPooling2D((2, 2)))\n",
        "model.add(layers.Conv2D(64, (3, 3), activation='relu'))\n",
        "model.add(layers.MaxPooling2D((2, 2)))\n",
        "model.add(layers.Conv2D(64, (3, 3), activation='relu'))\n",
        "model.add(layers.Flatten())\n",
        "model.add(layers.Dense(64, activation='relu'))\n",
        "model.add(Dropout(0.5))\n",
        "model.add(layers.Dense(10, activation='softmax'))\n"
      ],
      "execution_count": null,
      "outputs": []
    },
    {
      "cell_type": "code",
      "source": [
        "model.summary()"
      ],
      "metadata": {
        "colab": {
          "base_uri": "https://localhost:8080/"
        },
        "id": "KOzsU6d8oXZp",
        "outputId": "4e558c02-0ca8-448d-f24b-84f237cf31f1"
      },
      "execution_count": null,
      "outputs": [
        {
          "output_type": "stream",
          "name": "stdout",
          "text": [
            "Model: \"sequential\"\n",
            "_________________________________________________________________\n",
            " Layer (type)                Output Shape              Param #   \n",
            "=================================================================\n",
            " conv2d (Conv2D)             (None, 26, 26, 32)        320       \n",
            "                                                                 \n",
            " max_pooling2d (MaxPooling2D  (None, 13, 13, 32)       0         \n",
            " )                                                               \n",
            "                                                                 \n",
            " conv2d_1 (Conv2D)           (None, 11, 11, 64)        18496     \n",
            "                                                                 \n",
            " max_pooling2d_1 (MaxPooling  (None, 5, 5, 64)         0         \n",
            " 2D)                                                             \n",
            "                                                                 \n",
            " conv2d_2 (Conv2D)           (None, 3, 3, 64)          36928     \n",
            "                                                                 \n",
            " flatten (Flatten)           (None, 576)               0         \n",
            "                                                                 \n",
            " dense (Dense)               (None, 64)                36928     \n",
            "                                                                 \n",
            " dropout (Dropout)           (None, 64)                0         \n",
            "                                                                 \n",
            " dense_1 (Dense)             (None, 10)                650       \n",
            "                                                                 \n",
            "=================================================================\n",
            "Total params: 93,322\n",
            "Trainable params: 93,322\n",
            "Non-trainable params: 0\n",
            "_________________________________________________________________\n"
          ]
        }
      ]
    },
    {
      "cell_type": "code",
      "metadata": {
        "id": "htELDdXlwLDG"
      },
      "source": [
        "model.compile(loss=tf.keras.losses.SparseCategoricalCrossentropy(from_logits=True),\n",
        "           optimizer='adam',\n",
        "              metrics=['accuracy'] )"
      ],
      "execution_count": null,
      "outputs": []
    },
    {
      "cell_type": "code",
      "metadata": {
        "colab": {
          "base_uri": "https://localhost:8080/"
        },
        "id": "NTxPWAwxwYRF",
        "outputId": "87973ea8-5229-4c8d-dd5d-e7e4de9a55ed"
      },
      "source": [
        "history = model.fit(train_images,train_labels,\n",
        "          epochs=200, batch_size=128,)\n",
        "\n"
      ],
      "execution_count": null,
      "outputs": [
        {
          "output_type": "stream",
          "name": "stdout",
          "text": [
            "Epoch 1/200\n"
          ]
        },
        {
          "output_type": "stream",
          "name": "stderr",
          "text": [
            "/usr/local/lib/python3.7/dist-packages/tensorflow/python/util/dispatch.py:1096: UserWarning: \"`sparse_categorical_crossentropy` received `from_logits=True`, but the `output` argument was produced by a sigmoid or softmax activation and thus does not represent logits. Was this intended?\"\n",
            "  return dispatch_target(*args, **kwargs)\n"
          ]
        },
        {
          "output_type": "stream",
          "name": "stdout",
          "text": [
            "469/469 [==============================] - 14s 10ms/step - loss: 1.2881 - accuracy: 0.6118\n",
            "Epoch 2/200\n",
            "469/469 [==============================] - 4s 9ms/step - loss: 0.6007 - accuracy: 0.7845\n",
            "Epoch 3/200\n",
            "469/469 [==============================] - 4s 9ms/step - loss: 0.4951 - accuracy: 0.8220\n",
            "Epoch 4/200\n",
            "469/469 [==============================] - 4s 10ms/step - loss: 0.4403 - accuracy: 0.8427\n",
            "Epoch 5/200\n",
            "469/469 [==============================] - 4s 9ms/step - loss: 0.3947 - accuracy: 0.8606\n",
            "Epoch 6/200\n",
            "469/469 [==============================] - 4s 9ms/step - loss: 0.3698 - accuracy: 0.8676\n",
            "Epoch 7/200\n",
            "469/469 [==============================] - 4s 9ms/step - loss: 0.3475 - accuracy: 0.8758\n",
            "Epoch 8/200\n",
            "469/469 [==============================] - 4s 9ms/step - loss: 0.3269 - accuracy: 0.8838\n",
            "Epoch 9/200\n",
            "469/469 [==============================] - 4s 10ms/step - loss: 0.3147 - accuracy: 0.8868\n",
            "Epoch 10/200\n",
            "469/469 [==============================] - 4s 9ms/step - loss: 0.3019 - accuracy: 0.8905\n",
            "Epoch 11/200\n",
            "469/469 [==============================] - 4s 9ms/step - loss: 0.2898 - accuracy: 0.8965\n",
            "Epoch 12/200\n",
            "469/469 [==============================] - 4s 9ms/step - loss: 0.2766 - accuracy: 0.9002\n",
            "Epoch 13/200\n",
            "469/469 [==============================] - 4s 9ms/step - loss: 0.2653 - accuracy: 0.9037\n",
            "Epoch 14/200\n",
            "469/469 [==============================] - 4s 9ms/step - loss: 0.2578 - accuracy: 0.9067\n",
            "Epoch 15/200\n",
            "469/469 [==============================] - 4s 9ms/step - loss: 0.2488 - accuracy: 0.9087\n",
            "Epoch 16/200\n",
            "469/469 [==============================] - 4s 10ms/step - loss: 0.2387 - accuracy: 0.9125\n",
            "Epoch 17/200\n",
            "469/469 [==============================] - 4s 10ms/step - loss: 0.2292 - accuracy: 0.9156\n",
            "Epoch 18/200\n",
            "469/469 [==============================] - 4s 10ms/step - loss: 0.2201 - accuracy: 0.9180\n",
            "Epoch 19/200\n",
            "469/469 [==============================] - 4s 10ms/step - loss: 0.2150 - accuracy: 0.9189\n",
            "Epoch 20/200\n",
            "469/469 [==============================] - 5s 10ms/step - loss: 0.2124 - accuracy: 0.9220\n",
            "Epoch 21/200\n",
            "469/469 [==============================] - 5s 10ms/step - loss: 0.2037 - accuracy: 0.9239\n",
            "Epoch 22/200\n",
            "469/469 [==============================] - 4s 10ms/step - loss: 0.1966 - accuracy: 0.9267\n",
            "Epoch 23/200\n",
            "469/469 [==============================] - 4s 10ms/step - loss: 0.1926 - accuracy: 0.9288\n",
            "Epoch 24/200\n",
            "469/469 [==============================] - 4s 9ms/step - loss: 0.1867 - accuracy: 0.9294\n",
            "Epoch 25/200\n",
            "469/469 [==============================] - 4s 9ms/step - loss: 0.1815 - accuracy: 0.9307\n",
            "Epoch 26/200\n",
            "469/469 [==============================] - 5s 10ms/step - loss: 0.1832 - accuracy: 0.9302\n",
            "Epoch 27/200\n",
            "469/469 [==============================] - 5s 10ms/step - loss: 0.1794 - accuracy: 0.9319\n",
            "Epoch 28/200\n",
            "469/469 [==============================] - 5s 10ms/step - loss: 0.1712 - accuracy: 0.9349\n",
            "Epoch 29/200\n",
            "469/469 [==============================] - 4s 10ms/step - loss: 0.1679 - accuracy: 0.9356\n",
            "Epoch 30/200\n",
            "469/469 [==============================] - 5s 10ms/step - loss: 0.1631 - accuracy: 0.9380\n",
            "Epoch 31/200\n",
            "469/469 [==============================] - 5s 10ms/step - loss: 0.1576 - accuracy: 0.9400\n",
            "Epoch 32/200\n",
            "469/469 [==============================] - 4s 10ms/step - loss: 0.1588 - accuracy: 0.9408\n",
            "Epoch 33/200\n",
            "469/469 [==============================] - 4s 10ms/step - loss: 0.1530 - accuracy: 0.9420\n",
            "Epoch 34/200\n",
            "469/469 [==============================] - 4s 10ms/step - loss: 0.1555 - accuracy: 0.9419\n",
            "Epoch 35/200\n",
            "469/469 [==============================] - 4s 10ms/step - loss: 0.1452 - accuracy: 0.9436\n",
            "Epoch 36/200\n",
            "469/469 [==============================] - 4s 9ms/step - loss: 0.1478 - accuracy: 0.9435\n",
            "Epoch 37/200\n",
            "469/469 [==============================] - 5s 10ms/step - loss: 0.1432 - accuracy: 0.9467\n",
            "Epoch 38/200\n",
            "469/469 [==============================] - 5s 10ms/step - loss: 0.1441 - accuracy: 0.9449\n",
            "Epoch 39/200\n",
            "469/469 [==============================] - 4s 10ms/step - loss: 0.1393 - accuracy: 0.9483\n",
            "Epoch 40/200\n",
            "469/469 [==============================] - 5s 10ms/step - loss: 0.1339 - accuracy: 0.9488\n",
            "Epoch 41/200\n",
            "469/469 [==============================] - 4s 10ms/step - loss: 0.1375 - accuracy: 0.9481\n",
            "Epoch 42/200\n",
            "469/469 [==============================] - 5s 10ms/step - loss: 0.1311 - accuracy: 0.9502\n",
            "Epoch 43/200\n",
            "469/469 [==============================] - 4s 10ms/step - loss: 0.1270 - accuracy: 0.9525\n",
            "Epoch 44/200\n",
            "469/469 [==============================] - 5s 10ms/step - loss: 0.1275 - accuracy: 0.9526\n",
            "Epoch 45/200\n",
            "469/469 [==============================] - 5s 10ms/step - loss: 0.1208 - accuracy: 0.9538\n",
            "Epoch 46/200\n",
            "469/469 [==============================] - 5s 10ms/step - loss: 0.1299 - accuracy: 0.9513\n",
            "Epoch 47/200\n",
            "469/469 [==============================] - 5s 10ms/step - loss: 0.1198 - accuracy: 0.9541\n",
            "Epoch 48/200\n",
            "469/469 [==============================] - 5s 10ms/step - loss: 0.1157 - accuracy: 0.9556\n",
            "Epoch 49/200\n",
            "469/469 [==============================] - 5s 10ms/step - loss: 0.1174 - accuracy: 0.9559\n",
            "Epoch 50/200\n",
            "469/469 [==============================] - 4s 9ms/step - loss: 0.1136 - accuracy: 0.9566\n",
            "Epoch 51/200\n",
            "469/469 [==============================] - 4s 10ms/step - loss: 0.1126 - accuracy: 0.9570\n",
            "Epoch 52/200\n",
            "469/469 [==============================] - 5s 10ms/step - loss: 0.1136 - accuracy: 0.9570\n",
            "Epoch 53/200\n",
            "469/469 [==============================] - 5s 10ms/step - loss: 0.1106 - accuracy: 0.9592\n",
            "Epoch 54/200\n",
            "469/469 [==============================] - 4s 10ms/step - loss: 0.1127 - accuracy: 0.9592\n",
            "Epoch 55/200\n",
            "469/469 [==============================] - 5s 10ms/step - loss: 0.1118 - accuracy: 0.9577\n",
            "Epoch 56/200\n",
            "469/469 [==============================] - 5s 10ms/step - loss: 0.1034 - accuracy: 0.9613\n",
            "Epoch 57/200\n",
            "469/469 [==============================] - 5s 10ms/step - loss: 0.1074 - accuracy: 0.9602\n",
            "Epoch 58/200\n",
            "469/469 [==============================] - 4s 10ms/step - loss: 0.1012 - accuracy: 0.9622\n",
            "Epoch 59/200\n",
            "469/469 [==============================] - 5s 10ms/step - loss: 0.1065 - accuracy: 0.9595\n",
            "Epoch 60/200\n",
            "469/469 [==============================] - 4s 10ms/step - loss: 0.1056 - accuracy: 0.9604\n",
            "Epoch 61/200\n",
            "469/469 [==============================] - 4s 10ms/step - loss: 0.0968 - accuracy: 0.9636\n",
            "Epoch 62/200\n",
            "469/469 [==============================] - 4s 9ms/step - loss: 0.0961 - accuracy: 0.9645\n",
            "Epoch 63/200\n",
            "469/469 [==============================] - 4s 9ms/step - loss: 0.0984 - accuracy: 0.9630\n",
            "Epoch 64/200\n",
            "469/469 [==============================] - 5s 10ms/step - loss: 0.0952 - accuracy: 0.9636\n",
            "Epoch 65/200\n",
            "469/469 [==============================] - 4s 10ms/step - loss: 0.0974 - accuracy: 0.9643\n",
            "Epoch 66/200\n",
            "469/469 [==============================] - 4s 10ms/step - loss: 0.0977 - accuracy: 0.9638\n",
            "Epoch 67/200\n",
            "469/469 [==============================] - 4s 10ms/step - loss: 0.0943 - accuracy: 0.9658\n",
            "Epoch 68/200\n",
            "469/469 [==============================] - 4s 10ms/step - loss: 0.1023 - accuracy: 0.9624\n",
            "Epoch 69/200\n",
            "469/469 [==============================] - 5s 10ms/step - loss: 0.0887 - accuracy: 0.9675\n",
            "Epoch 70/200\n",
            "469/469 [==============================] - 5s 10ms/step - loss: 0.0833 - accuracy: 0.9690\n",
            "Epoch 71/200\n",
            "469/469 [==============================] - 5s 10ms/step - loss: 0.0909 - accuracy: 0.9665\n",
            "Epoch 72/200\n",
            "469/469 [==============================] - 5s 10ms/step - loss: 0.0916 - accuracy: 0.9674\n",
            "Epoch 73/200\n",
            "469/469 [==============================] - 4s 10ms/step - loss: 0.0932 - accuracy: 0.9657\n",
            "Epoch 74/200\n",
            "469/469 [==============================] - 4s 9ms/step - loss: 0.0949 - accuracy: 0.9656\n",
            "Epoch 75/200\n",
            "469/469 [==============================] - 4s 10ms/step - loss: 0.0887 - accuracy: 0.9681\n",
            "Epoch 76/200\n",
            "469/469 [==============================] - 4s 10ms/step - loss: 0.0819 - accuracy: 0.9698\n",
            "Epoch 77/200\n",
            "469/469 [==============================] - 4s 10ms/step - loss: 0.0806 - accuracy: 0.9714\n",
            "Epoch 78/200\n",
            "469/469 [==============================] - 4s 10ms/step - loss: 0.0806 - accuracy: 0.9711\n",
            "Epoch 79/200\n",
            "469/469 [==============================] - 4s 10ms/step - loss: 0.0884 - accuracy: 0.9688\n",
            "Epoch 80/200\n",
            "469/469 [==============================] - 4s 10ms/step - loss: 0.0869 - accuracy: 0.9687\n",
            "Epoch 81/200\n",
            "469/469 [==============================] - 4s 10ms/step - loss: 0.0871 - accuracy: 0.9689\n",
            "Epoch 82/200\n",
            "469/469 [==============================] - 5s 10ms/step - loss: 0.0773 - accuracy: 0.9723\n",
            "Epoch 83/200\n",
            "469/469 [==============================] - 5s 10ms/step - loss: 0.0851 - accuracy: 0.9696\n",
            "Epoch 84/200\n",
            "469/469 [==============================] - 4s 10ms/step - loss: 0.0822 - accuracy: 0.9717\n",
            "Epoch 85/200\n",
            "469/469 [==============================] - 4s 10ms/step - loss: 0.0760 - accuracy: 0.9722\n",
            "Epoch 86/200\n",
            "469/469 [==============================] - 5s 10ms/step - loss: 0.0749 - accuracy: 0.9724\n",
            "Epoch 87/200\n",
            "469/469 [==============================] - 4s 9ms/step - loss: 0.0763 - accuracy: 0.9727\n",
            "Epoch 88/200\n",
            "469/469 [==============================] - 4s 10ms/step - loss: 0.0800 - accuracy: 0.9715\n",
            "Epoch 89/200\n",
            "469/469 [==============================] - 4s 9ms/step - loss: 0.0820 - accuracy: 0.9713\n",
            "Epoch 90/200\n",
            "469/469 [==============================] - 4s 9ms/step - loss: 0.0885 - accuracy: 0.9695\n",
            "Epoch 91/200\n",
            "469/469 [==============================] - 4s 9ms/step - loss: 0.0719 - accuracy: 0.9746\n",
            "Epoch 92/200\n",
            "469/469 [==============================] - 4s 9ms/step - loss: 0.0689 - accuracy: 0.9756\n",
            "Epoch 93/200\n",
            "469/469 [==============================] - 5s 10ms/step - loss: 0.0764 - accuracy: 0.9738\n",
            "Epoch 94/200\n",
            "469/469 [==============================] - 5s 10ms/step - loss: 0.0779 - accuracy: 0.9724\n",
            "Epoch 95/200\n",
            "469/469 [==============================] - 5s 10ms/step - loss: 0.0783 - accuracy: 0.9731\n",
            "Epoch 96/200\n",
            "469/469 [==============================] - 4s 10ms/step - loss: 0.0714 - accuracy: 0.9747\n",
            "Epoch 97/200\n",
            "469/469 [==============================] - 4s 10ms/step - loss: 0.0745 - accuracy: 0.9731\n",
            "Epoch 98/200\n",
            "469/469 [==============================] - 5s 10ms/step - loss: 0.0737 - accuracy: 0.9751\n",
            "Epoch 99/200\n",
            "469/469 [==============================] - 4s 10ms/step - loss: 0.0723 - accuracy: 0.9746\n",
            "Epoch 100/200\n",
            "469/469 [==============================] - 5s 10ms/step - loss: 0.0781 - accuracy: 0.9724\n",
            "Epoch 101/200\n",
            "469/469 [==============================] - 4s 10ms/step - loss: 0.0809 - accuracy: 0.9730\n",
            "Epoch 102/200\n",
            "469/469 [==============================] - 5s 10ms/step - loss: 0.0710 - accuracy: 0.9757\n",
            "Epoch 103/200\n",
            "469/469 [==============================] - 5s 10ms/step - loss: 0.0690 - accuracy: 0.9761\n",
            "Epoch 104/200\n",
            "469/469 [==============================] - 4s 10ms/step - loss: 0.0703 - accuracy: 0.9751\n",
            "Epoch 105/200\n",
            "469/469 [==============================] - 4s 9ms/step - loss: 0.0816 - accuracy: 0.9723\n",
            "Epoch 106/200\n",
            "469/469 [==============================] - 5s 10ms/step - loss: 0.0709 - accuracy: 0.9757\n",
            "Epoch 107/200\n",
            "469/469 [==============================] - 4s 10ms/step - loss: 0.0802 - accuracy: 0.9736\n",
            "Epoch 108/200\n",
            "469/469 [==============================] - 4s 9ms/step - loss: 0.0637 - accuracy: 0.9772\n",
            "Epoch 109/200\n",
            "469/469 [==============================] - 5s 10ms/step - loss: 0.0629 - accuracy: 0.9781\n",
            "Epoch 110/200\n",
            "469/469 [==============================] - 4s 9ms/step - loss: 0.0720 - accuracy: 0.9754\n",
            "Epoch 111/200\n",
            "469/469 [==============================] - 5s 10ms/step - loss: 0.0716 - accuracy: 0.9758\n",
            "Epoch 112/200\n",
            "469/469 [==============================] - 4s 10ms/step - loss: 0.0794 - accuracy: 0.9742\n",
            "Epoch 113/200\n",
            "469/469 [==============================] - 4s 10ms/step - loss: 0.0724 - accuracy: 0.9757\n",
            "Epoch 114/200\n",
            "469/469 [==============================] - 4s 9ms/step - loss: 0.0660 - accuracy: 0.9769\n",
            "Epoch 115/200\n",
            "469/469 [==============================] - 4s 9ms/step - loss: 0.0693 - accuracy: 0.9768\n",
            "Epoch 116/200\n",
            "469/469 [==============================] - 4s 9ms/step - loss: 0.0749 - accuracy: 0.9751\n",
            "Epoch 117/200\n",
            "469/469 [==============================] - 4s 10ms/step - loss: 0.0790 - accuracy: 0.9738\n",
            "Epoch 118/200\n",
            "469/469 [==============================] - 4s 10ms/step - loss: 0.0639 - accuracy: 0.9781\n",
            "Epoch 119/200\n",
            "469/469 [==============================] - 5s 10ms/step - loss: 0.0644 - accuracy: 0.9781\n",
            "Epoch 120/200\n",
            "469/469 [==============================] - 4s 9ms/step - loss: 0.0716 - accuracy: 0.9771\n",
            "Epoch 121/200\n",
            "469/469 [==============================] - 5s 10ms/step - loss: 0.0752 - accuracy: 0.9758\n",
            "Epoch 122/200\n",
            "469/469 [==============================] - 5s 10ms/step - loss: 0.0633 - accuracy: 0.9788\n",
            "Epoch 123/200\n",
            "469/469 [==============================] - 4s 10ms/step - loss: 0.0709 - accuracy: 0.9770\n",
            "Epoch 124/200\n",
            "469/469 [==============================] - 5s 10ms/step - loss: 0.0781 - accuracy: 0.9749\n",
            "Epoch 125/200\n",
            "469/469 [==============================] - 5s 10ms/step - loss: 0.0653 - accuracy: 0.9782\n",
            "Epoch 126/200\n",
            "469/469 [==============================] - 5s 10ms/step - loss: 0.0680 - accuracy: 0.9781\n",
            "Epoch 127/200\n",
            "469/469 [==============================] - 5s 10ms/step - loss: 0.0638 - accuracy: 0.9789\n",
            "Epoch 128/200\n",
            "469/469 [==============================] - 4s 9ms/step - loss: 0.0768 - accuracy: 0.9751\n",
            "Epoch 129/200\n",
            "469/469 [==============================] - 5s 10ms/step - loss: 0.0550 - accuracy: 0.9815\n",
            "Epoch 130/200\n",
            "469/469 [==============================] - 4s 9ms/step - loss: 0.0644 - accuracy: 0.9786\n",
            "Epoch 131/200\n",
            "469/469 [==============================] - 5s 10ms/step - loss: 0.0801 - accuracy: 0.9748\n",
            "Epoch 132/200\n",
            "469/469 [==============================] - 5s 10ms/step - loss: 0.0601 - accuracy: 0.9803\n",
            "Epoch 133/200\n",
            "469/469 [==============================] - 5s 10ms/step - loss: 0.0815 - accuracy: 0.9744\n",
            "Epoch 134/200\n",
            "469/469 [==============================] - 5s 10ms/step - loss: 0.0576 - accuracy: 0.9806\n",
            "Epoch 135/200\n",
            "469/469 [==============================] - 5s 10ms/step - loss: 0.0668 - accuracy: 0.9780\n",
            "Epoch 136/200\n",
            "469/469 [==============================] - 5s 10ms/step - loss: 0.0663 - accuracy: 0.9780\n",
            "Epoch 137/200\n",
            "469/469 [==============================] - 5s 10ms/step - loss: 0.0595 - accuracy: 0.9806\n",
            "Epoch 138/200\n",
            "469/469 [==============================] - 5s 10ms/step - loss: 0.0648 - accuracy: 0.9791\n",
            "Epoch 139/200\n",
            "469/469 [==============================] - 4s 10ms/step - loss: 0.0674 - accuracy: 0.9782\n",
            "Epoch 140/200\n",
            "469/469 [==============================] - 5s 10ms/step - loss: 0.0725 - accuracy: 0.9784\n",
            "Epoch 141/200\n",
            "469/469 [==============================] - 5s 10ms/step - loss: 0.0663 - accuracy: 0.9786\n",
            "Epoch 142/200\n",
            "469/469 [==============================] - 5s 10ms/step - loss: 0.0689 - accuracy: 0.9773\n",
            "Epoch 143/200\n",
            "469/469 [==============================] - 5s 10ms/step - loss: 0.0572 - accuracy: 0.9808\n",
            "Epoch 144/200\n",
            "469/469 [==============================] - 5s 10ms/step - loss: 0.0721 - accuracy: 0.9775\n",
            "Epoch 145/200\n",
            "469/469 [==============================] - 4s 10ms/step - loss: 0.0628 - accuracy: 0.9794\n",
            "Epoch 146/200\n",
            "469/469 [==============================] - 4s 10ms/step - loss: 0.0728 - accuracy: 0.9771\n",
            "Epoch 147/200\n",
            "469/469 [==============================] - 5s 10ms/step - loss: 0.0568 - accuracy: 0.9815\n",
            "Epoch 148/200\n",
            "469/469 [==============================] - 5s 10ms/step - loss: 0.0543 - accuracy: 0.9818\n",
            "Epoch 149/200\n",
            "469/469 [==============================] - 5s 10ms/step - loss: 0.0744 - accuracy: 0.9767\n",
            "Epoch 150/200\n",
            "469/469 [==============================] - 5s 10ms/step - loss: 0.0728 - accuracy: 0.9783\n",
            "Epoch 151/200\n",
            "469/469 [==============================] - 5s 10ms/step - loss: 0.0737 - accuracy: 0.9771\n",
            "Epoch 152/200\n",
            "469/469 [==============================] - 5s 10ms/step - loss: 0.0605 - accuracy: 0.9808\n",
            "Epoch 153/200\n",
            "469/469 [==============================] - 5s 10ms/step - loss: 0.0690 - accuracy: 0.9781\n",
            "Epoch 154/200\n",
            "469/469 [==============================] - 5s 10ms/step - loss: 0.0698 - accuracy: 0.9785\n",
            "Epoch 155/200\n",
            "469/469 [==============================] - 5s 10ms/step - loss: 0.0612 - accuracy: 0.9804\n",
            "Epoch 156/200\n",
            "469/469 [==============================] - 5s 10ms/step - loss: 0.0599 - accuracy: 0.9809\n",
            "Epoch 157/200\n",
            "469/469 [==============================] - 5s 10ms/step - loss: 0.0716 - accuracy: 0.9795\n",
            "Epoch 158/200\n",
            "469/469 [==============================] - 5s 10ms/step - loss: 0.0734 - accuracy: 0.9782\n",
            "Epoch 159/200\n",
            "469/469 [==============================] - 5s 10ms/step - loss: 0.0832 - accuracy: 0.9760\n",
            "Epoch 160/200\n",
            "469/469 [==============================] - 5s 10ms/step - loss: 0.0600 - accuracy: 0.9804\n",
            "Epoch 161/200\n",
            "469/469 [==============================] - 5s 10ms/step - loss: 0.0500 - accuracy: 0.9838\n",
            "Epoch 162/200\n",
            "469/469 [==============================] - 5s 10ms/step - loss: 0.0549 - accuracy: 0.9823\n",
            "Epoch 163/200\n",
            "469/469 [==============================] - 5s 10ms/step - loss: 0.0871 - accuracy: 0.9747\n",
            "Epoch 164/200\n",
            "469/469 [==============================] - 5s 10ms/step - loss: 0.0664 - accuracy: 0.9788\n",
            "Epoch 165/200\n",
            "469/469 [==============================] - 5s 10ms/step - loss: 0.0463 - accuracy: 0.9844\n",
            "Epoch 166/200\n",
            "469/469 [==============================] - 4s 9ms/step - loss: 0.0657 - accuracy: 0.9800\n",
            "Epoch 167/200\n",
            "469/469 [==============================] - 5s 10ms/step - loss: 0.0681 - accuracy: 0.9791\n",
            "Epoch 168/200\n",
            "469/469 [==============================] - 4s 10ms/step - loss: 0.0681 - accuracy: 0.9794\n",
            "Epoch 169/200\n",
            "469/469 [==============================] - 5s 10ms/step - loss: 0.0629 - accuracy: 0.9808\n",
            "Epoch 170/200\n",
            "469/469 [==============================] - 5s 10ms/step - loss: 0.0727 - accuracy: 0.9790\n",
            "Epoch 171/200\n",
            "469/469 [==============================] - 5s 10ms/step - loss: 0.0600 - accuracy: 0.9811\n",
            "Epoch 172/200\n",
            "469/469 [==============================] - 5s 10ms/step - loss: 0.0599 - accuracy: 0.9819\n",
            "Epoch 173/200\n",
            "469/469 [==============================] - 4s 10ms/step - loss: 0.0586 - accuracy: 0.9819\n",
            "Epoch 174/200\n",
            "469/469 [==============================] - 5s 10ms/step - loss: 0.0597 - accuracy: 0.9816\n",
            "Epoch 175/200\n",
            "469/469 [==============================] - 5s 10ms/step - loss: 0.0689 - accuracy: 0.9800\n",
            "Epoch 176/200\n",
            "469/469 [==============================] - 5s 10ms/step - loss: 0.0703 - accuracy: 0.9791\n",
            "Epoch 177/200\n",
            "469/469 [==============================] - 5s 10ms/step - loss: 0.0624 - accuracy: 0.9808\n",
            "Epoch 178/200\n",
            "469/469 [==============================] - 5s 10ms/step - loss: 0.0783 - accuracy: 0.9770\n",
            "Epoch 179/200\n",
            "469/469 [==============================] - 5s 10ms/step - loss: 0.0604 - accuracy: 0.9819\n",
            "Epoch 180/200\n",
            "469/469 [==============================] - 5s 10ms/step - loss: 0.0699 - accuracy: 0.9798\n",
            "Epoch 181/200\n",
            "469/469 [==============================] - 5s 10ms/step - loss: 0.0561 - accuracy: 0.9831\n",
            "Epoch 182/200\n",
            "469/469 [==============================] - 5s 10ms/step - loss: 0.0622 - accuracy: 0.9825\n",
            "Epoch 183/200\n",
            "469/469 [==============================] - 5s 10ms/step - loss: 0.0604 - accuracy: 0.9823\n",
            "Epoch 184/200\n",
            "469/469 [==============================] - 5s 10ms/step - loss: 0.0658 - accuracy: 0.9804\n",
            "Epoch 185/200\n",
            "469/469 [==============================] - 5s 10ms/step - loss: 0.0619 - accuracy: 0.9817\n",
            "Epoch 186/200\n",
            "469/469 [==============================] - 5s 10ms/step - loss: 0.0664 - accuracy: 0.9806\n",
            "Epoch 187/200\n",
            "469/469 [==============================] - 5s 10ms/step - loss: 0.0669 - accuracy: 0.9796\n",
            "Epoch 188/200\n",
            "469/469 [==============================] - 5s 10ms/step - loss: 0.0641 - accuracy: 0.9807\n",
            "Epoch 189/200\n",
            "469/469 [==============================] - 5s 10ms/step - loss: 0.0568 - accuracy: 0.9830\n",
            "Epoch 190/200\n",
            "469/469 [==============================] - 5s 10ms/step - loss: 0.0846 - accuracy: 0.9754\n",
            "Epoch 191/200\n",
            "469/469 [==============================] - 5s 10ms/step - loss: 0.0642 - accuracy: 0.9801\n",
            "Epoch 192/200\n",
            "469/469 [==============================] - 5s 10ms/step - loss: 0.0523 - accuracy: 0.9836\n",
            "Epoch 193/200\n",
            "469/469 [==============================] - 5s 10ms/step - loss: 0.0539 - accuracy: 0.9837\n",
            "Epoch 194/200\n",
            "469/469 [==============================] - 5s 10ms/step - loss: 0.0702 - accuracy: 0.9795\n",
            "Epoch 195/200\n",
            "469/469 [==============================] - 4s 10ms/step - loss: 0.0501 - accuracy: 0.9844\n",
            "Epoch 196/200\n",
            "469/469 [==============================] - 5s 10ms/step - loss: 0.0691 - accuracy: 0.9805\n",
            "Epoch 197/200\n",
            "469/469 [==============================] - 4s 10ms/step - loss: 0.0731 - accuracy: 0.9791\n",
            "Epoch 198/200\n",
            "469/469 [==============================] - 5s 10ms/step - loss: 0.0558 - accuracy: 0.9832\n",
            "Epoch 199/200\n",
            "469/469 [==============================] - 5s 10ms/step - loss: 0.0576 - accuracy: 0.9832\n",
            "Epoch 200/200\n",
            "469/469 [==============================] - 5s 10ms/step - loss: 0.0639 - accuracy: 0.9815\n"
          ]
        }
      ]
    },
    {
      "cell_type": "code",
      "metadata": {
        "colab": {
          "base_uri": "https://localhost:8080/"
        },
        "id": "cvdiLBC6wtZR",
        "outputId": "952587dc-0c73-4f4e-a5ae-02f835f7c1fe"
      },
      "source": [
        "test_loss, test_acc = model.evaluate(test_images,  test_labels, verbose=2)\n",
        "\n",
        "print('\\nTest accuracy:', test_acc)"
      ],
      "execution_count": null,
      "outputs": [
        {
          "output_type": "stream",
          "name": "stderr",
          "text": [
            "/usr/local/lib/python3.7/dist-packages/tensorflow/python/util/dispatch.py:1096: UserWarning: \"`sparse_categorical_crossentropy` received `from_logits=True`, but the `output` argument was produced by a sigmoid or softmax activation and thus does not represent logits. Was this intended?\"\n",
            "  return dispatch_target(*args, **kwargs)\n"
          ]
        },
        {
          "output_type": "stream",
          "name": "stdout",
          "text": [
            "313/313 - 1s - loss: 1.6251 - accuracy: 0.8922 - 1s/epoch - 4ms/step\n",
            "\n",
            "Test accuracy: 0.8921999931335449\n"
          ]
        }
      ]
    }
  ]
}